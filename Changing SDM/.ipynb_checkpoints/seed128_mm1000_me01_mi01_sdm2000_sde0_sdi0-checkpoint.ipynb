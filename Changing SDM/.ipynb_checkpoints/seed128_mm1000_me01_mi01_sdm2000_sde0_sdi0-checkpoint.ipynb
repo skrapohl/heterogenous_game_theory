{
 "cells": [
  {
   "cell_type": "code",
   "execution_count": 4,
   "metadata": {},
   "outputs": [
    {
     "data": {
      "text/html": [
       "<style>.container { width:90% !important; }</style>"
      ],
      "text/plain": [
       "<IPython.core.display.HTML object>"
      ]
     },
     "metadata": {},
     "output_type": "display_data"
    }
   ],
   "source": [
    "import sys\n",
    "sys.path.insert(1, '../')\n",
    "from heterogenous_game_theory import *\n",
    "import numpy as np\n",
    "import matplotlib.pyplot as plt\n",
    "import scipy as sp\n",
    "%matplotlib inline\n",
    "from IPython.core.display import display, HTML\n",
    "display(HTML(\"<style>.container { width:90% !important; }</style>\"))\n",
    "plt.style.use('fivethirtyeight')\n",
    "seed = 128\n",
    "np.random.seed(seed)"
   ]
  },
  {
   "cell_type": "code",
   "execution_count": 5,
   "metadata": {},
   "outputs": [],
   "source": [
    "# if we want to run simulations with heterogenous populations - we need to set homogeneous to false, \n",
    "# and we have the option to set a value for M, E, and I for heterogenous populations (defaults are 1000, 0.1, 0.1 for homogenous)\n",
    "\n",
    "# first number is median, second standard deviation\n",
    "M = [1000, 2000]\n",
    "E = [0.1, 0.00001]\n",
    "I = [0.1, 0.00001]\n",
    "\n",
    "# create a list of agents, default = 100\n",
    "agents = get_agents(homogenous = False, number_of_agents = 100, M = M, E = E, I = I)\n",
    "check_parameters(agents)\n",
    "compare_payoff_function(agents, default_payoff_functions)\n",
    "check_parameters(agents) #correct result because homogenous = True"
   ]
  },
  {
   "cell_type": "code",
   "execution_count": 7,
   "metadata": {},
   "outputs": [
    {
     "name": "stdout",
     "output_type": "stream",
     "text": [
      "AGENT PARAMETERS IN POPULATION\n",
      "-------------------------------------\n",
      "   M \t\t  E \t\t  I\n",
      "-------------------------------------\n",
      "| 37243 \t\t 0.1 \t\t 0.1 |\n",
      "| 41674 \t\t 0.1 \t\t 0.1 |\n",
      "| 41277 \t\t 0.1 \t\t 0.1 |\n",
      "| 40207 \t\t 0.1 \t\t 0.1 |\n",
      "| 37656 \t\t 0.1 \t\t 0.1 |\n",
      "| 37555 \t\t 0.1 \t\t 0.1 |\n",
      "| 37525 \t\t 0.1 \t\t 0.1 |\n",
      "| 39567 \t\t 0.1 \t\t 0.1 |\n",
      "| 39082 \t\t 0.1 \t\t 0.1 |\n",
      "| 36414 \t\t 0.1 \t\t 0.1 |\n",
      "| 41144 \t\t 0.1 \t\t 0.1 |\n",
      "| 38155 \t\t 0.1 \t\t 0.1 |\n",
      "| 42746 \t\t 0.1 \t\t 0.1 |\n",
      "| 43117 \t\t 0.1 \t\t 0.1 |\n",
      "| 39841 \t\t 0.1 \t\t 0.1 |\n",
      "| 37413 \t\t 0.1 \t\t 0.1 |\n",
      "| 41995 \t\t 0.1 \t\t 0.1 |\n",
      "| 43425 \t\t 0.1 \t\t 0.1 |\n",
      "| 37213 \t\t 0.1 \t\t 0.1 |\n",
      "-------------------------------------\n",
      "The s.d. of M is: 1972.0\n",
      "The s.d. of E is: 0.0\n",
      "The s.d. of I is: 0.0\n",
      "-------------------------------------\n",
      "The mean of M is: 39888\n",
      "The mean of E is: 0.1\n",
      "The mean of I is: 0.1\n",
      "-------------------------------------\n",
      "The population mean parameters entered were: 40000, 0.1, 0.1\n",
      "The population s.d. parameters entered were: 2000, 0.0001, 0.0001\n",
      "\u001b[31mcondition mean M unsatisfied\u001b[0m\n",
      "\u001b[32mcondition mean E satisfied\u001b[0m\n",
      "\u001b[32mcondition mean I satisfied\u001b[0m\n",
      "\u001b[31mcondition sd M unsatisfied\u001b[0m\n",
      "\u001b[32mcondition sd E satisfied\u001b[0m\n",
      "\u001b[32mcondition sd I satisfied\u001b[0m\n"
     ]
    }
   ],
   "source": [
    "tour = Tournament.create_play_tournament(\n",
    "                 agents = agents, \n",
    "                 max_rounds = 10000, \n",
    "                 strategy_list = [defect, tit_for_tat, generous_tit_for_tat, cooperate], \n",
    "                 payoff_functions = default_payoff_functions, \n",
    "                 surveillance_penalty = True,\n",
    "                 self_reward = selfreward, #default function\n",
    "                 playing_each_other = True,\n",
    "                 nr_strategy_changes = 10,\n",
    "                 mutation_rate = 0.1,\n",
    "                 init_fitnes_as_m = False,\n",
    "                 noise = 0.05,\n",
    "                 )\n",
    "draw_stack(tour)\n",
    "C_D_ratios_per_round_var(tour, constant = 1)\n",
    "outliers = count_outliers(tour, constants = np.arange(0.5, 3.1, 0.1))\n",
    "data = {'S.D.': list(outliers.keys()), 'Counts': list(outliers.values()), 'Seed': str(seed)}\n",
    "df = pd.DataFrame.from_dict(data)\n",
    "print(df)\n",
    "df.to_csv(\"Data/data_\" + str(seed) + \"_outliercounts.csv\", encoding='utf-8', index = False, float_format='%.1f')\n",
    "save_tournament_csv(tour, type_of_tournament= \"_changing_sdm\", seed = str(seed))"
   ]
  }
 ],
 "metadata": {
  "kernelspec": {
   "display_name": "Python 3",
   "language": "python",
   "name": "python3"
  },
  "language_info": {
   "codemirror_mode": {
    "name": "ipython",
    "version": 3
   },
   "file_extension": ".py",
   "mimetype": "text/x-python",
   "name": "python",
   "nbconvert_exporter": "python",
   "pygments_lexer": "ipython3",
   "version": "3.7.4"
  }
 },
 "nbformat": 4,
 "nbformat_minor": 2
}
