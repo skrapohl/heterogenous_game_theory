{
 "cells": [
  {
   "cell_type": "code",
   "execution_count": 1,
   "metadata": {},
   "outputs": [
    {
     "data": {
      "text/html": [
       "<style>.container { width:90% !important; }</style>"
      ],
      "text/plain": [
       "<IPython.core.display.HTML object>"
      ]
     },
     "metadata": {},
     "output_type": "display_data"
    }
   ],
   "source": [
    "import sys\n",
    "sys.path.insert(1, '../')\n",
    "from OUvAAxelrod import *\n",
    "import numpy as np\n",
    "import matplotlib.pyplot as plt\n",
    "import scipy as sp\n",
    "%matplotlib inline\n",
    "from IPython.core.display import display, HTML\n",
    "display(HTML(\"<style>.container { width:90% !important; }</style>\"))\n",
    "plt.style.use('fivethirtyeight')\n",
    "seed = 4\n",
    "np.random.seed(seed)"
   ]
  },
  {
   "cell_type": "code",
   "execution_count": 2,
   "metadata": {},
   "outputs": [],
   "source": [
    "# if we want to run simulations with heterogenous populations - we need to set homogeneous to false, \n",
    "# and we have the option to set a value for M, E, and I for heterogenous populations (defaults are 1000, 0.1, 0.1 for homogenous)\n",
    "\n",
    "# first number is median, second standard deviation\n",
    "M = [1000, 1/10000]\n",
    "E = [0.1, 0.2]\n",
    "I = [0.1, 0.2]\n",
    "\n",
    "# create a list of agents, default = 100\n",
    "agents = get_agents(homogenous = False, number_of_agents = 100, M = M, E = E, I = I)"
   ]
  },
  {
   "cell_type": "code",
   "execution_count": 3,
   "metadata": {},
   "outputs": [
    {
     "name": "stdout",
     "output_type": "stream",
     "text": [
      "AGENT PARAMETERS IN POPULATION\n",
      "-------------------------------------\n",
      "   M \t\t  E \t\t  I\n",
      "-------------------------------------\n",
      "| 1000 \t\t 0.15 \t\t 0.38 |\n",
      "| 1000 \t\t 0.36 \t\t 0.48 |\n",
      "| 1000 \t\t 0.42 \t\t 0.27 |\n",
      "| 1000 \t\t 0.25 \t\t 0.31 |\n",
      "| 1000 \t\t 0.06 \t\t 0.54 |\n",
      "| 1000 \t\t 0.15 \t\t 0.43 |\n",
      "| 1000 \t\t 0.1 \t\t 0.08 |\n",
      "| 1000 \t\t 0.05 \t\t 0.16 |\n",
      "| 1000 \t\t 0.41 \t\t 0.0 |\n",
      "| 1000 \t\t 0.08 \t\t 0.01 |\n",
      "| 1000 \t\t 0.35 \t\t 0.33 |\n",
      "| 1000 \t\t 0.14 \t\t 0.4 |\n",
      "| 1000 \t\t 0.25 \t\t 0.15 |\n",
      "| 1000 \t\t 0.07 \t\t 0.14 |\n",
      "| 1000 \t\t 0.2 \t\t 0.05 |\n",
      "| 1000 \t\t 0.26 \t\t 0.09 |\n",
      "| 1000 \t\t 0.17 \t\t 0.28 |\n",
      "| 1000 \t\t 0.15 \t\t 0.49 |\n",
      "| 1000 \t\t 0.15 \t\t 0.2 |\n",
      "-------------------------------------\n",
      "The s.d. of M is: 0.0\n",
      "The s.d. of E is: 0.15\n",
      "The s.d. of I is: 0.16\n",
      "-------------------------------------\n",
      "The mean of M is: 1000\n",
      "The mean of E is: 0.2\n",
      "The mean of I is: 0.2\n",
      "-------------------------------------\n",
      "The population mean parameters entered were: 1000, 0.1, 0.1\n",
      "The population s.d. parameters entered were: 0.0001, 0.2, 0.2\n",
      "\u001b[32mcondition mean M satisfied\u001b[0m\n",
      "\u001b[31mcondition mean E unsatisfied\u001b[0m\n",
      "\u001b[31mcondition mean I unsatisfied\u001b[0m\n",
      "\u001b[32mcondition sd M satisfied\u001b[0m\n",
      "\u001b[31mcondition sd E unsatisfied\u001b[0m\n",
      "\u001b[31mcondition sd I unsatisfied\u001b[0m\n"
     ]
    }
   ],
   "source": [
    "check_parameters(agents, M, E, I)"
   ]
  },
  {
   "cell_type": "code",
   "execution_count": null,
   "metadata": {},
   "outputs": [
    {
     "name": "stdout",
     "output_type": "stream",
     "text": [
      "Tournament has started...\n",
      "-"
     ]
    }
   ],
   "source": [
    "tournament_seed4_mm1000_me01_mi01_sdm0_sde02_sdi02 = Tournament.create_play_tournament(\n",
    "                 countries = agents, \n",
    "                 max_rounds = 100000, \n",
    "                 strategy_list = [defect, tit_for_tat, generous_tit_for_tat, cooperate], \n",
    "                 payoff_functions = default_payoff_functions, \n",
    "                 surveillance_penalty = True,\n",
    "                 self_reward = selfreward, #default function\n",
    "                 playing_each_other = True,\n",
    "                 nr_strategy_changes = 1,\n",
    "                 mutation_rate = 0.1,\n",
    "                 init_fitnes_as_m = False,\n",
    "                 noise = 0.05,\n",
    "                 )"
   ]
  },
  {
   "cell_type": "code",
   "execution_count": null,
   "metadata": {},
   "outputs": [],
   "source": [
    "draw_stack(tournament_seed4_mm1000_me01_mi01_sdm0_sde02_sdi02)"
   ]
  },
  {
   "cell_type": "code",
   "execution_count": null,
   "metadata": {},
   "outputs": [],
   "source": [
    "# we can change the constant of s.d.\n",
    "C_D_ratios_per_round_var(tournament_seed4_mm1000_me01_mi01_sdm0_sde02_sdi02, constant = 1)"
   ]
  },
  {
   "cell_type": "code",
   "execution_count": null,
   "metadata": {},
   "outputs": [],
   "source": [
    "outliers = count_outliers(tournament_seed4_mm1000_me01_mi01_sdm0_sde02_sdi02, constants = np.arange(0.5, 3.1, 0.1))\n",
    "data = {'S.D.': list(outliers.keys()), 'Counts': list(outliers.values())}\n",
    "df = pd.DataFrame.from_dict(data)\n",
    "print(df)\n",
    "df.to_csv(\"Data/data_seed4_mm1000_me01_mi01_sdm0_sde02_sdi02_outlier_counts.csv\", encoding='utf-8', index = False, float_format='%.1f')"
   ]
  },
  {
   "cell_type": "code",
   "execution_count": null,
   "metadata": {},
   "outputs": [],
   "source": [
    "save_cooperate_csv(tournament_seed8_mm1000_me01_mi01_sdm0_sde02_sdi02, type_of_tournament= \"seed4_mm1000_me01_mi01_sdm0_sde02_sdi02\", seed = str(seed))"
   ]
  }
 ],
 "metadata": {
  "kernelspec": {
   "display_name": "Python 3",
   "language": "python",
   "name": "python3"
  },
  "language_info": {
   "codemirror_mode": {
    "name": "ipython",
    "version": 3
   },
   "file_extension": ".py",
   "mimetype": "text/x-python",
   "name": "python",
   "nbconvert_exporter": "python",
   "pygments_lexer": "ipython3",
   "version": "3.6.5"
  }
 },
 "nbformat": 4,
 "nbformat_minor": 2
}
