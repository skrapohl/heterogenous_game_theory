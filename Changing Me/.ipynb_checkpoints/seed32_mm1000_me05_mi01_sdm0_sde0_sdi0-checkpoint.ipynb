{
 "cells": [
  {
   "cell_type": "code",
   "execution_count": null,
   "metadata": {},
   "outputs": [],
   "source": [
    "import sys\n",
    "sys.path.insert(1, '../')\n",
    "from OUvAAxelrod import *\n",
    "import numpy as np\n",
    "import matplotlib.pyplot as plt\n",
    "import scipy as sp\n",
    "%matplotlib inline\n",
    "from IPython.core.display import display, HTML\n",
    "display(HTML(\"<style>.container { width:90% !important; }</style>\"))\n",
    "plt.style.use('fivethirtyeight')\n",
    "seed = 32\n",
    "np.random.seed(seed)"
   ]
  },
  {
   "cell_type": "code",
   "execution_count": null,
   "metadata": {},
   "outputs": [],
   "source": [
    "# if we want to run simulations with heterogenous populations - we need to set homogeneous to false, \n",
    "# and we have the option to set a value for M, E, and I for heterogenous populations (defaults are 1000, 0.1, 0.1 for homogenous)\n",
    "\n",
    "# first number is median, second standard deviation\n",
    "M = [1000, 0.00001]\n",
    "E = [0.5, 0.00001]\n",
    "I = [0.1, 0.00001]\n",
    "\n",
    "# create a list of agents, default = 100\n",
    "agents = get_agents(homogenous = False, number_of_agents = 100, M = M, E = E, I = I)"
   ]
  },
  {
   "cell_type": "code",
   "execution_count": null,
   "metadata": {},
   "outputs": [],
   "source": [
    "check_parameters(agents, M, E, I)"
   ]
  },
  {
   "cell_type": "code",
   "execution_count": null,
   "metadata": {},
   "outputs": [],
   "source": [
    "tournament_seed32_mm1000_me05_mi01_sdm0_sde0_sdi0 = Tournament.create_play_tournament(\n",
    "                 countries = agents,\n",
    "                 max_rounds = 100000, \n",
    "                 strategy_list = [defect, tit_for_tat, generous_tit_for_tat, cooperate], \n",
    "                 payoff_functions = default_payoff_functions, \n",
    "                 surveillance_penalty = True,\n",
    "                 self_reward = selfreward, #default function\n",
    "                 playing_each_other = True,\n",
    "                 nr_strategy_changes = 1,\n",
    "                 mutation_rate = 0.1,\n",
    "                 init_fitnes_as_m = False,\n",
    "                 noise = 0.05,\n",
    "                 )"
   ]
  },
  {
   "cell_type": "code",
   "execution_count": null,
   "metadata": {},
   "outputs": [],
   "source": [
    "draw_stack(tournament_seed32_mm1000_me05_mi01_sdm0_sde0_sdi0)"
   ]
  },
  {
   "cell_type": "code",
   "execution_count": null,
   "metadata": {},
   "outputs": [],
   "source": [
    "C_D_ratios_per_round(tournament_seed32_mm1000_me05_mi01_sdm0_sde0_sdi0)"
   ]
  },
  {
   "cell_type": "code",
   "execution_count": null,
   "metadata": {},
   "outputs": [],
   "source": [
    "# we can change the constant of s.d.\n",
    "C_D_ratios_per_round_var(tournament_seed32_mm1000_me05_mi01_sdm0_sde0_sdi0, constant = 1)"
   ]
  },
  {
   "cell_type": "code",
   "execution_count": null,
   "metadata": {},
   "outputs": [],
   "source": [
    "outliers = count_outliers(tournament_seed32_mm1000_me05_mi01_sdm0_sde0_sdi0, constants = np.arange(0.5, 3.1, 0.1))\n",
    "data = {'S.D.': list(outliers.keys()), 'Counts': list(outliers.values())}\n",
    "df = pd.DataFrame.from_dict(data)\n",
    "print(df)\n",
    "df.to_csv(\"Data/data_seed32_mm1000_me05_mi01_sdm0_sde0_sdi0_outlier_counts.csv\", encoding='utf-8', index = False, float_format='%.1f')"
   ]
  },
  {
   "cell_type": "code",
   "execution_count": null,
   "metadata": {},
   "outputs": [],
   "source": [
    "save_cooperate_csv(tournament_seed32_mm1000_me05_mi01_sdm0_sde0_sdi0, type_of_tournament= \"seed32_mm1000_me05_mi01_sdm0_sde0_sdi0\", seed = str(seed))"
   ]
  },
  {
   "cell_type": "code",
   "execution_count": null,
   "metadata": {},
   "outputs": [],
   "source": []
  }
 ],
 "metadata": {
  "kernelspec": {
   "display_name": "Python 3",
   "language": "python",
   "name": "python3"
  },
  "language_info": {
   "codemirror_mode": {
    "name": "ipython",
    "version": 3
   },
   "file_extension": ".py",
   "mimetype": "text/x-python",
   "name": "python",
   "nbconvert_exporter": "python",
   "pygments_lexer": "ipython3",
   "version": "3.6.5"
  }
 },
 "nbformat": 4,
 "nbformat_minor": 2
}
