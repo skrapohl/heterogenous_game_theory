{
 "cells": [
  {
   "cell_type": "code",
   "execution_count": 1,
   "metadata": {},
   "outputs": [
    {
     "data": {
      "text/html": [
       "<style>.container { width:90% !important; }</style>"
      ],
      "text/plain": [
       "<IPython.core.display.HTML object>"
      ]
     },
     "metadata": {},
     "output_type": "display_data"
    }
   ],
   "source": [
    "import sys\n",
    "sys.path.insert(1, '../')\n",
    "from OUvAAxelrod import *\n",
    "import numpy as np\n",
    "import matplotlib.pyplot as plt\n",
    "import scipy as sp\n",
    "%matplotlib inline\n",
    "from IPython.core.display import display, HTML\n",
    "display(HTML(\"<style>.container { width:90% !important; }</style>\"))\n",
    "plt.style.use('fivethirtyeight')\n",
    "seed = 4\n",
    "np.random.seed(seed)"
   ]
  },
  {
   "cell_type": "code",
   "execution_count": 2,
   "metadata": {},
   "outputs": [],
   "source": [
    "# if we want to run simulations with heterogenous populations - we need to set homogeneous to false, \n",
    "# and we have the option to set a value for M, E, and I for heterogenous populations (defaults are 1000, 0.1, 0.1 for homogenous)\n",
    "\n",
    "# first number is median, second standard deviation\n",
    "M = [1000, 2000]\n",
    "E = [0.1, 0.2]\n",
    "I = [0.1, 0.2]\n",
    "\n",
    "# create a list of agents, default = 100\n",
    "agents = get_agents(homogenous = False, number_of_agents = 100, M = M, E = E, I = I)"
   ]
  },
  {
   "cell_type": "code",
   "execution_count": 3,
   "metadata": {},
   "outputs": [
    {
     "name": "stdout",
     "output_type": "stream",
     "text": [
      "AGENT PARAMETERS IN POPULATION\n",
      "-------------------------------------\n",
      "   M \t\t  E \t\t  I\n",
      "-------------------------------------\n",
      "| 3051 \t\t 0.15 \t\t 0.38 |\n",
      "| 3468 \t\t 0.36 \t\t 0.48 |\n",
      "| 1483 \t\t 0.42 \t\t 0.27 |\n",
      "| 745 \t\t 0.25 \t\t 0.31 |\n",
      "| 3200 \t\t 0.06 \t\t 0.54 |\n",
      "| 4716 \t\t 0.15 \t\t 0.43 |\n",
      "| 2302 \t\t 0.1 \t\t 0.08 |\n",
      "| 3037 \t\t 0.05 \t\t 0.16 |\n",
      "| 3890 \t\t 0.41 \t\t 0.0 |\n",
      "| 2861 \t\t 0.08 \t\t 0.01 |\n",
      "| 1486 \t\t 0.35 \t\t 0.33 |\n",
      "| 926 \t\t 0.14 \t\t 0.4 |\n",
      "| 2256 \t\t 0.25 \t\t 0.15 |\n",
      "| 245 \t\t 0.07 \t\t 0.14 |\n",
      "| 1454 \t\t 0.2 \t\t 0.05 |\n",
      "| 1102 \t\t 0.26 \t\t 0.09 |\n",
      "| 1938 \t\t 0.17 \t\t 0.28 |\n",
      "| 2887 \t\t 0.15 \t\t 0.49 |\n",
      "| 3012 \t\t 0.15 \t\t 0.2 |\n",
      "-------------------------------------\n",
      "The s.d. of M is: 1173.0\n",
      "The s.d. of E is: 0.15\n",
      "The s.d. of I is: 0.16\n",
      "-------------------------------------\n",
      "The mean of M is: 1988\n",
      "The mean of E is: 0.2\n",
      "The mean of I is: 0.2\n",
      "-------------------------------------\n",
      "The population mean parameters entered were: 1000, 0.1, 0.1\n",
      "The population s.d. parameters entered were: 2000, 0.2, 0.2\n",
      "\n",
      "\n",
      "#####################################\n",
      "Running one sample t-tests to determine if population true mean equals inputs.\n",
      "\u001b[31mcondition mean M unsatisfied, p value 0.0\u001b[0m\n",
      "\u001b[31mcondition mean E unsatisfied, p value 0.0\u001b[0m\n",
      "\u001b[31mcondition mean I unsatisfied, p value 0.0\u001b[0m\n",
      "\u001b[31mcondition sd M unsatisfied\u001b[0m\n",
      "\u001b[31mcondition sd E unsatisfied\u001b[0m\n",
      "\u001b[31mcondition sd I unsatisfied\u001b[0m\n"
     ]
    },
    {
     "data": {
      "image/png": "[encoded data removed]",
      "text/plain": [
       "<Figure size 2160x720 with 3 Axes>"
      ]
     },
     "metadata": {
      "needs_background": "light"
     },
     "output_type": "display_data"
    }
   ],
   "source": [
    "check_parameters(agents, M, E, I)"
   ]
  },
  {
   "cell_type": "code",
   "execution_count": 4,
   "metadata": {},
   "outputs": [
    {
     "name": "stdout",
     "output_type": "stream",
     "text": [
      "Tournament has started...\n",
      "Tournament has ended. The simulation took 105 minutes.\n"
     ]
    }
   ],
   "source": [
    "tournament_seed4_mm1000_me01_mi01_sdm2000_sde02_sdi02 = Tournament.create_play_tournament(\n",
    "                 countries = agents, \n",
    "                 max_rounds = 100000, \n",
    "                 strategy_list = [defect, tit_for_tat, generous_tit_for_tat, cooperate], \n",
    "                 payoff_functions = default_payoff_functions, \n",
    "                 surveillance_penalty = True,\n",
    "                 self_reward = selfreward, #default function\n",
    "                 playing_each_other = True,\n",
    "                 nr_strategy_changes = 1,\n",
    "                 mutation_rate = 0.1,\n",
    "                 init_fitnes_as_m = False,\n",
    "                 noise = 0.05,\n",
    "                 )"
   ]
  },
  {
   "cell_type": "code",
   "execution_count": null,
   "metadata": {},
   "outputs": [],
   "source": [
    "draw_stack(tournament_seed4_mm1000_me01_mi01_sdm2000_sde02_sdi02)"
   ]
  },
  {
   "cell_type": "code",
   "execution_count": null,
   "metadata": {},
   "outputs": [],
   "source": [
    "# we can change the constant of s.d.\n",
    "C_D_ratios_per_round_var(tournament_seed4_mm1000_me01_mi01_sdm2000_sde02_sdi02, constant = 1)"
   ]
  },
  {
   "cell_type": "code",
   "execution_count": 5,
   "metadata": {},
   "outputs": [
    {
     "name": "stdout",
     "output_type": "stream",
     "text": [
      "    S.D.  Counts\n",
      "0    0.5    1024\n",
      "1    0.6     938\n",
      "2    0.7     805\n",
      "3    0.8     702\n",
      "4    0.9     575\n",
      "5    1.0     537\n",
      "6    1.1     522\n",
      "7    1.2     490\n",
      "8    1.3     405\n",
      "9    1.4     322\n",
      "10   1.5     325\n",
      "11   1.6     322\n",
      "12   1.7     246\n",
      "13   1.8     185\n",
      "14   1.9     161\n",
      "15   2.0     149\n",
      "16   2.1     117\n",
      "17   2.2      86\n",
      "18   2.3      78\n",
      "19   2.4      60\n",
      "20   2.5      37\n",
      "21   2.6      31\n",
      "22   2.7      17\n",
      "23   2.8      10\n",
      "24   2.9       2\n",
      "25   3.0       8\n"
     ]
    }
   ],
   "source": [
    "outliers = count_outliers(tournament_seed4_mm1000_me01_mi01_sdm2000_sde02_sdi02, constants = np.arange(0.5, 3.1, 0.1))\n",
    "data = {'S.D.': list(outliers.keys()), 'Counts': list(outliers.values())}\n",
    "df = pd.DataFrame.from_dict(data)\n",
    "print(df)\n",
    "df.to_csv(\"Data/data_seed4_mm1000_me01_mi01_sdm2000_sde02_sdi02.csv\", encoding='utf-8', index = False, float_format='%.1f')"
   ]
  },
  {
   "cell_type": "code",
   "execution_count": 6,
   "metadata": {},
   "outputs": [],
   "source": [
    "save_cooperate_csv(tournament_seed4_mm1000_me01_mi01_sdm2000_sde02_sdi02, type_of_tournament= \"tournament_seed4_mm1000_me01_mi01_sdm2000_sde02_sdi02\", seed = str(seed))"
   ]
  },
  {
   "cell_type": "code",
   "execution_count": null,
   "metadata": {},
   "outputs": [],
   "source": []
  }
 ],
 "metadata": {
  "kernelspec": {
   "display_name": "Python 3",
   "language": "python",
   "name": "python3"
  },
  "language_info": {
   "codemirror_mode": {
    "name": "ipython",
    "version": 3
   },
   "file_extension": ".py",
   "mimetype": "text/x-python",
   "name": "python",
   "nbconvert_exporter": "python",
   "pygments_lexer": "ipython3",
   "version": "3.7.3"
  }
 },
 "nbformat": 4,
 "nbformat_minor": 4
}
