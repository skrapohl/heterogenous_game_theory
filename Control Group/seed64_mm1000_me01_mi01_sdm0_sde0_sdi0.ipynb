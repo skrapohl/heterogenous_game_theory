{
 "cells": [
  {
   "cell_type": "code",
   "execution_count": 1,
   "metadata": {},
   "outputs": [
    {
     "data": {
      "text/html": [
       "<style>.container { width:90% !important; }</style>"
      ],
      "text/plain": [
       "<IPython.core.display.HTML object>"
      ]
     },
     "metadata": {},
     "output_type": "display_data"
    }
   ],
   "source": [
    "import sys\n",
    "sys.path.insert(1, '../')\n",
    "from heterogenous_game_theory import *\n",
    "import numpy as np\n",
    "import matplotlib.pyplot as plt\n",
    "import scipy as sp\n",
    "%matplotlib inline\n",
    "from IPython.core.display import display, HTML\n",
    "display(HTML(\"<style>.container { width:90% !important; }</style>\"))\n",
    "plt.style.use('fivethirtyeight')\n",
    "seed = 64\n",
    "np.random.seed(seed)"
   ]
  },
  {
   "cell_type": "code",
   "execution_count": 2,
   "metadata": {},
   "outputs": [
    {
     "name": "stdout",
     "output_type": "stream",
     "text": [
      "AGENT PARAMETERS IN POPULATION\n",
      "-------------------------------------\n",
      "   M \t\t  E \t\t  I\n",
      "-------------------------------------\n",
      "| 1000 \t\t 0.1 \t\t 0.1 |\n",
      "| 1000 \t\t 0.1 \t\t 0.1 |\n",
      "| 1000 \t\t 0.1 \t\t 0.1 |\n",
      "| 1000 \t\t 0.1 \t\t 0.1 |\n",
      "| 1000 \t\t 0.1 \t\t 0.1 |\n",
      "| 1000 \t\t 0.1 \t\t 0.1 |\n",
      "| 1000 \t\t 0.1 \t\t 0.1 |\n",
      "| 1000 \t\t 0.1 \t\t 0.1 |\n",
      "| 1000 \t\t 0.1 \t\t 0.1 |\n",
      "| 1000 \t\t 0.1 \t\t 0.1 |\n",
      "| 1000 \t\t 0.1 \t\t 0.1 |\n",
      "| 1000 \t\t 0.1 \t\t 0.1 |\n",
      "| 1000 \t\t 0.1 \t\t 0.1 |\n",
      "| 1000 \t\t 0.1 \t\t 0.1 |\n",
      "| 1000 \t\t 0.1 \t\t 0.1 |\n",
      "| 1000 \t\t 0.1 \t\t 0.1 |\n",
      "| 1000 \t\t 0.1 \t\t 0.1 |\n",
      "| 1000 \t\t 0.1 \t\t 0.1 |\n",
      "| 1000 \t\t 0.1 \t\t 0.1 |\n",
      "-------------------------------------\n",
      "The s.d. of M is: 0.0\n",
      "The s.d. of E is: 0.0\n",
      "The s.d. of I is: 0.0\n",
      "-------------------------------------\n",
      "The mean of M is: 1000\n",
      "The mean of E is: 0.1\n",
      "The mean of I is: 0.1\n",
      "-------------------------------------\n"
     ]
    },
    {
     "data": {
      "image/png": "[encoded data removed]",
      "text/plain": [
       "<Figure size 2160x720 with 3 Axes>"
      ]
     },
     "metadata": {
      "needs_background": "light"
     },
     "output_type": "display_data"
    },
    {
     "name": "stdout",
     "output_type": "stream",
     "text": [
      "____________________________________________________________________________________________________\n",
      "Agent 0 playing Agent 1: Reward: 90.0, Temptation: 100.0, Sucker: -10.0, Punishment: 0\n",
      "Agent 1 playing Agent 0: Reward: 90.0, Temptation: 100.0, Sucker: -10.0, Punishment: 0\n",
      "____________________________________________________________________________________________________\n",
      "____________________________________________________________________________________________________\n",
      "Agent 0 playing Agent 2: Reward: 90.0, Temptation: 100.0, Sucker: -10.0, Punishment: 0\n",
      "Agent 2 playing Agent 0: Reward: 90.0, Temptation: 100.0, Sucker: -10.0, Punishment: 0\n",
      "____________________________________________________________________________________________________\n",
      "____________________________________________________________________________________________________\n",
      "Agent 0 playing Agent 3: Reward: 90.0, Temptation: 100.0, Sucker: -10.0, Punishment: 0\n",
      "Agent 3 playing Agent 0: Reward: 90.0, Temptation: 100.0, Sucker: -10.0, Punishment: 0\n",
      "____________________________________________________________________________________________________\n",
      "____________________________________________________________________________________________________\n",
      "Agent 0 playing Agent 4: Reward: 90.0, Temptation: 100.0, Sucker: -10.0, Punishment: 0\n",
      "Agent 4 playing Agent 0: Reward: 90.0, Temptation: 100.0, Sucker: -10.0, Punishment: 0\n",
      "____________________________________________________________________________________________________\n",
      "____________________________________________________________________________________________________\n",
      "Agent 1 playing Agent 2: Reward: 90.0, Temptation: 100.0, Sucker: -10.0, Punishment: 0\n",
      "Agent 2 playing Agent 1: Reward: 90.0, Temptation: 100.0, Sucker: -10.0, Punishment: 0\n",
      "____________________________________________________________________________________________________\n",
      "____________________________________________________________________________________________________\n",
      "Agent 1 playing Agent 3: Reward: 90.0, Temptation: 100.0, Sucker: -10.0, Punishment: 0\n",
      "Agent 3 playing Agent 1: Reward: 90.0, Temptation: 100.0, Sucker: -10.0, Punishment: 0\n",
      "____________________________________________________________________________________________________\n",
      "____________________________________________________________________________________________________\n",
      "Agent 1 playing Agent 4: Reward: 90.0, Temptation: 100.0, Sucker: -10.0, Punishment: 0\n",
      "Agent 4 playing Agent 1: Reward: 90.0, Temptation: 100.0, Sucker: -10.0, Punishment: 0\n",
      "____________________________________________________________________________________________________\n",
      "____________________________________________________________________________________________________\n",
      "Agent 2 playing Agent 3: Reward: 90.0, Temptation: 100.0, Sucker: -10.0, Punishment: 0\n",
      "Agent 3 playing Agent 2: Reward: 90.0, Temptation: 100.0, Sucker: -10.0, Punishment: 0\n",
      "____________________________________________________________________________________________________\n",
      "____________________________________________________________________________________________________\n",
      "Agent 2 playing Agent 4: Reward: 90.0, Temptation: 100.0, Sucker: -10.0, Punishment: 0\n",
      "Agent 4 playing Agent 2: Reward: 90.0, Temptation: 100.0, Sucker: -10.0, Punishment: 0\n",
      "____________________________________________________________________________________________________\n",
      "____________________________________________________________________________________________________\n",
      "Agent 3 playing Agent 4: Reward: 90.0, Temptation: 100.0, Sucker: -10.0, Punishment: 0\n",
      "Agent 4 playing Agent 3: Reward: 90.0, Temptation: 100.0, Sucker: -10.0, Punishment: 0\n",
      "____________________________________________________________________________________________________\n"
     ]
    }
   ],
   "source": [
    "agents = get_agents(homogenous = True)\n",
    "check_parameters(agents)\n",
    "compare_payoff_function(agents, default_payoff_functions)"
   ]
  },
  {
   "cell_type": "code",
   "execution_count": null,
   "metadata": {},
   "outputs": [
    {
     "name": "stdout",
     "output_type": "stream",
     "text": [
      "Tournament has started...\n",
      "Tournament has ended. The simulation took 15 minutes.\n",
      "    S.D.  Counts\n",
      "0    0.5     270\n",
      "1    0.6     281\n",
      "2    0.7     262\n",
      "3    0.8     233\n",
      "4    0.9     186\n",
      "5    1.0     195\n",
      "6    1.1     163\n",
      "7    1.2     121\n",
      "8    1.3     103\n",
      "9    1.4      89\n",
      "10   1.5      89\n",
      "11   1.6      77\n",
      "12   1.7      58\n",
      "13   1.8      54\n",
      "14   1.9      56\n",
      "15   2.0      41\n",
      "16   2.1      31\n",
      "17   2.2      22\n",
      "18   2.3      16\n",
      "19   2.4      12\n",
      "20   2.5       9\n",
      "21   2.6       8\n",
      "22   2.7      11\n",
      "23   2.8       5\n",
      "24   2.9       4\n",
      "25   3.0       3\n"
     ]
    }
   ],
   "source": [
    "seed64_mm1000_me01_mi01_sdm0_sde0_sdi0 = Tournament.create_play_tournament(\n",
    "                 agents = agents, \n",
    "                 max_rounds = 10000, \n",
    "                 strategy_list = [defect, tit_for_tat, generous_tit_for_tat, cooperate], \n",
    "                 payoff_functions = default_payoff_functions, \n",
    "                 surveillance_penalty = True,\n",
    "                 self_reward = selfreward, #default function\n",
    "                 playing_each_other = True,\n",
    "                 nr_strategy_changes = 10,\n",
    "                 mutation_rate = 0.1,\n",
    "                 init_fitnes_as_m = False,\n",
    "                 noise = 0.05,\n",
    "                 )\n",
    "draw_stack(seed64_mm1000_me01_mi01_sdm0_sde0_sdi0)\n",
    "C_D_ratios_per_round_var(seed64_mm1000_me01_mi01_sdm0_sde0_sdi0, constant = 1)\n",
    "outliers = count_outliers(seed64_mm1000_me01_mi01_sdm0_sde0_sdi0, constants = np.arange(0.5, 3.1, 0.1))\n",
    "data = {'S.D.': list(outliers.keys()), 'Counts': list(outliers.values())}\n",
    "df = pd.DataFrame.from_dict(data)\n",
    "print(df)\n",
    "df.to_csv(\"Data/data_\" + str(seed) + \"outlier_counts.csv\", encoding='utf-8', index = False, float_format='%.1f')\n",
    "save_cooperate_csv(seed64_mm1000_me01_mi01_sdm0_sde0_sdi0, type_of_tournament= \"seed64_mm1000_me01_mi01_sdm0_sde0_sdi0\", seed = str(seed))"
   ]
  },
  {
   "cell_type": "code",
   "execution_count": null,
   "metadata": {},
   "outputs": [],
   "source": []
  }
 ],
 "metadata": {
  "kernelspec": {
   "display_name": "Python 3",
   "language": "python",
   "name": "python3"
  },
  "language_info": {
   "codemirror_mode": {
    "name": "ipython",
    "version": 3
   },
   "file_extension": ".py",
   "mimetype": "text/x-python",
   "name": "python",
   "nbconvert_exporter": "python",
   "pygments_lexer": "ipython3",
   "version": "3.7.4"
  }
 },
 "nbformat": 4,
 "nbformat_minor": 2
}
